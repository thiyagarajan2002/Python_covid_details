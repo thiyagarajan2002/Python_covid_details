{
  "nbformat": 4,
  "nbformat_minor": 0,
  "metadata": {
    "colab": {
      "name": "Covid_V1.ipynb",
      "provenance": [],
      "authorship_tag": "ABX9TyM8WmdCQs7SU0e0ZE6Ao5/o",
      "include_colab_link": true
    },
    "kernelspec": {
      "name": "python3",
      "display_name": "Python 3"
    },
    "language_info": {
      "name": "python"
    }
  },
  "cells": [
    {
      "cell_type": "markdown",
      "metadata": {
        "id": "view-in-github",
        "colab_type": "text"
      },
      "source": [
        "<a href=\"https://colab.research.google.com/github/thiyagarajan2002/Python_covid_details/blob/main/Covid_V1.ipynb\" target=\"_parent\"><img src=\"https://colab.research.google.com/assets/colab-badge.svg\" alt=\"Open In Colab\"/></a>"
      ]
    },
    {
      "cell_type": "code",
      "metadata": {
        "colab": {
          "base_uri": "https://localhost:8080/"
        },
        "id": "8M99jJFDhh0y",
        "outputId": "c908501e-6dc2-425b-ab6d-b8978b78a21f"
      },
      "source": [
        "from covid import Covid\n",
        "covid = Covid()\n",
        "print(\"Total active cases in world:\", covid.get_total_active_cases())\n",
        "print(\"Total recovered cases in world:\", covid.get_total_recovered())\n",
        "print(\"Total deaths in world:\", covid.get_total_deaths())\n",
        "\n",
        "def Devloped_country():\n",
        "  developed_countries = [\"Norway\", \"Switzerland\", \"Ireland\", \"Germany\", \"HongKong\", \"Australia\", \"Icelan\", \"Singapore\", \"Netherlands\", \"Denmark\",\"Finland\", \"CanadaNew\", \"zealand\", \"UnitedKingdom\", \"UnitedStates\", \"Belgium\", \"Liechtenstein\", \"Japan\", \"Austria\", \"Luxembourg\", \"Israel\", \"SouthKorea\", \"Slovenia\", \"Spain\", \"Czech\", \"Republic\", \"France\", \"Malta\", \"Italy\", \"Estonia\", \"Cypru\", \"Greec\", \"Poland\", \"Lithuania\", \"UnitedArabEmirates\", \"Andorra\", \"Saudi\", \"Arabia\", \"Slovakia\", \"Latvia\", \"Portugal\", \"Qatar\", \"Chile\", \"Brunei\", \"Hungary\", \"Bahrain\", \"Croatia\", \"Oman\", \"Argentina\", \"Russia\", \"Belarus\", \"Kazakhstan\", \"Bulgaria\", \"Montenegro\", \"Romania\", \"Palau\", \"Barbados\", \"Kuwait\", \"Uruguay\", \"Turkey\", \"Bahamas\", \"Malaysia\", \"Seychelles\"]\n",
        "  for i in developed_countries:\n",
        "    print(i,\"\\t\",end=' ')\n",
        "  str = input(\"\\nEnter country name: \")\n",
        "  for i in developed_countries:\n",
        "    if str == i:\n",
        "        print(\"entered country is developed country\" )\n",
        "  cases = covid.get_status_by_country_name(str)\n",
        "  for x in cases:\n",
        "    print(x, \":\", cases[x])\n",
        "\n",
        "  \n",
        "def Devloping_country():\n",
        "  developing_countries = [ \"Afghanistan\", \"Albania\", \"Algeria\", \"Angola\", \"Antigua and Barbuda\", \"Argentina\", \"Armeni\", \"Azerbaijan\", \"Bahams\", 'Bahrain\", \"Bangladesh\", \"Barbados\", \"Belarus\", \"Belize\", \"Benin', \"Bhutan\", \"Bolivia\", \"Bosnia and Herzegovina\", \"Botswana\", \"Brazil\", \"Brunei\", \"Bulgaria\", \"Burkina Faso\", \"Burundi\", \"Cambodia\", \"Cameroon\", \"Cape Verde\", \"Central African Republic\", \"Chad\", \"China\", \"Chile\", \"Colombia\", \"Comoros\", \"Democratic Republic of the Congo\", \"Republic of the Congo\", \"Costa Rica\", \"Côted Ivoire\", \"Croatia\", \"Djibouti\", \"Dominica\", \"Dominican Republic\", \"Ecuador\", \"Egypt\", \"El Salvador\", \"Equatorial Guinea\", \"Eritrea\", \"Eswatini (Swaziland)\", \"Ethiopia\", \"Fiji\", \"Gabon\", \"The Gambia\", \"Georgia\", \"Ghana\", \"Grenada\", \"Guatemala\", \"Guinea\",\"Guinea-Bissau\", \"Guyana\", \"Haiti\", \"Honduras\", \"Hungary\", \"India\", \"Indonesia\", \"Iran\", \"Iraq\", \"Jamaica\", \"ordan\", \"Kazakhstan\", \"Kenya\", \"Kiribati\", \"Kuwait\",\"Kyrgyzstan\", \"Laos\", \"Lebanon\", \"Lesotho\", \"Liberia\", \"Libya\", \"Madagascar\", \"Malawi\", \"Malaysia\", \"Maldives\", \"Mali\", \"Marshall Islands\", \"Mauritania\", \"Mauritius\", \"Mexico\",\"Federated States of Micronesia\", \"Moldova\", \"Mongolia\", \"Montenegro\", \"Morocco\", \"Mozambique\", \"Myanmar\", \"Namibia\", \"Nauru\", \"Nepal\", \"Nicaragua\",\"Niger\", \"Nigeria\", \"North Macedonia\", \"Oman\", \"Pakistan\", \"Palau\", \"Palestine\", \"Panama\", \"Papua New Guinea\", \"Paraguay\", \"Peru\", \"hilippines\", \"Romania\", \"Russia\", \"Rwanda\", \"Saint Kitts and Nevis\", \"Saint Lucia\", \"Saint Vincent and the Grenadines\", \"Samoa\", \"São Tomé and Príncipe\", \"Senegal\", \"Serbia\", \"Seychelles\", \"Sierra Leone\", \"Solomon Islands\", \"Somalia\", \"South Africa\", \"South Sudan\", \"Sri Lanka\", \"Sudan\", \"Suriname\", \"Syria\", \"Tajikistan\", \"Tanzania\", \"Thailand\", \"Timor-Leste\", \"Togo\", \"Tonga\", \"Trinidad and Tobago\", \"Tunisia\", \"Turkey\", \"Turkmenistan\", \"Tuvalu\", \"Uganda\", \"Ukraine\", \"Uruguay\", \"Uzbekistan\", \"Vanuatu\", \"Venezuel\", \"Vietnam\", \"Yemen\", \"Zambia\", \"Zimbabwe\", \"Abkhazia\", \"Cuba\", \"North Korea\", \"Sahrawi Arab Democratic Republic\", \"South Ossetia\"]\n",
        "  for i in developing_countries:\n",
        "    print(i,\"\\t\",end=' ')\n",
        "  str = input(\"\\nEnter country name: \")\n",
        "  for i in developing_countries:\n",
        "    if str == i:\n",
        "        print(\"entered country is developing country\")\n",
        "  cases = covid.get_status_by_country_name(str)\n",
        "  for x in cases:\n",
        "    print(x, \":\", cases[x])\n",
        "\n",
        "\n",
        "str3 = input(\"Enter developed for developed countries,for developing countries enter developing\")\n",
        "if str3.lower() == \"developed\":\n",
        "  Devloped_country()\n",
        "else:\n",
        "  Devloping_country()\n"
      ],
      "execution_count": 17,
      "outputs": [
        {
          "output_type": "stream",
          "text": [
            "Total active cases in world: 28998443\n",
            "Total recovered cases in world: 128759842\n",
            "Total deaths in world: 4188282\n",
            "Enter developed for developed countries,for developing countries enter developingdeveloping\n",
            "Afghanistan \t Albania \t Algeria \t Angola \t Antigua and Barbuda \t Argentina \t Armeni \t Azerbaijan \t Bahams \t Bahrain\", \"Bangladesh\", \"Barbados\", \"Belarus\", \"Belize\", \"Benin \t Bhutan \t Bolivia \t Bosnia and Herzegovina \t Botswana \t Brazil \t Brunei \t Bulgaria \t Burkina Faso \t Burundi \t Cambodia \t Cameroon \t Cape Verde \t Central African Republic \t Chad \t China \t Chile \t Colombia \t Comoros \t Democratic Republic of the Congo \t Republic of the Congo \t Costa Rica \t Côted Ivoire \t Croatia \t Djibouti \t Dominica \t Dominican Republic \t Ecuador \t Egypt \t El Salvador \t Equatorial Guinea \t Eritrea \t Eswatini (Swaziland) \t Ethiopia \t Fiji \t Gabon \t The Gambia \t Georgia \t Ghana \t Grenada \t Guatemala \t Guinea \t Guinea-Bissau \t Guyana \t Haiti \t Honduras \t Hungary \t India \t Indonesia \t Iran \t Iraq \t Jamaica \t ordan \t Kazakhstan \t Kenya \t Kiribati \t Kuwait \t Kyrgyzstan \t Laos \t Lebanon \t Lesotho \t Liberia \t Libya \t Madagascar \t Malawi \t Malaysia \t Maldives \t Mali \t Marshall Islands \t Mauritania \t Mauritius \t Mexico \t Federated States of Micronesia \t Moldova \t Mongolia \t Montenegro \t Morocco \t Mozambique \t Myanmar \t Namibia \t Nauru \t Nepal \t Nicaragua \t Niger \t Nigeria \t North Macedonia \t Oman \t Pakistan \t Palau \t Palestine \t Panama \t Papua New Guinea \t Paraguay \t Peru \t hilippines \t Romania \t Russia \t Rwanda \t Saint Kitts and Nevis \t Saint Lucia \t Saint Vincent and the Grenadines \t Samoa \t São Tomé and Príncipe \t Senegal \t Serbia \t Seychelles \t Sierra Leone \t Solomon Islands \t Somalia \t South Africa \t South Sudan \t Sri Lanka \t Sudan \t Suriname \t Syria \t Tajikistan \t Tanzania \t Thailand \t Timor-Leste \t Togo \t Tonga \t Trinidad and Tobago \t Tunisia \t Turkey \t Turkmenistan \t Tuvalu \t Uganda \t Ukraine \t Uruguay \t Uzbekistan \t Vanuatu \t Venezuel \t Vietnam \t Yemen \t Zambia \t Zimbabwe \t Abkhazia \t Cuba \t North Korea \t Sahrawi Arab Democratic Republic \t South Ossetia \t \n",
            "Enter country name: Afghanistan\n",
            "entered country is developing country\n",
            "id : 1\n",
            "country : Afghanistan\n",
            "confirmed : 145552\n",
            "active : 56389\n",
            "deaths : 6577\n",
            "recovered : 82586\n",
            "latitude : 33.93911\n",
            "longitude : 67.709953\n",
            "last_update : 1627554090000\n"
          ],
          "name": "stdout"
        }
      ]
    },
    {
      "cell_type": "code",
      "metadata": {
        "colab": {
          "base_uri": "https://localhost:8080/"
        },
        "id": "PsgWa1w6m3-0",
        "outputId": "13147e54-6511-436e-c289-b0fdcfc7162f"
      },
      "source": [
        "pip install covid"
      ],
      "execution_count": null,
      "outputs": [
        {
          "output_type": "stream",
          "text": [
            "Collecting covid\n",
            "  Downloading covid-2.5.0.tar.gz (9.3 kB)\n",
            "  Installing build dependencies ... \u001b[?25l\u001b[?25hdone\n",
            "  Getting requirements to build wheel ... \u001b[?25l\u001b[?25hdone\n",
            "    Preparing wheel metadata ... \u001b[?25l\u001b[?25hdone\n",
            "Requirement already satisfied: requests in /usr/local/lib/python3.7/dist-packages (from covid) (2.23.0)\n",
            "Requirement already satisfied: beautifulsoup4 in /usr/local/lib/python3.7/dist-packages (from covid) (4.6.3)\n",
            "Collecting typer\n",
            "  Downloading typer-0.3.2-py3-none-any.whl (21 kB)\n",
            "Collecting pydantic\n",
            "  Downloading pydantic-1.8.2-cp37-cp37m-manylinux2014_x86_64.whl (10.1 MB)\n",
            "\u001b[K     |████████████████████████████████| 10.1 MB 10.3 MB/s \n",
            "\u001b[?25hRequirement already satisfied: typing-extensions>=3.7.4.3 in /usr/local/lib/python3.7/dist-packages (from pydantic->covid) (3.7.4.3)\n",
            "Requirement already satisfied: urllib3!=1.25.0,!=1.25.1,<1.26,>=1.21.1 in /usr/local/lib/python3.7/dist-packages (from requests->covid) (1.24.3)\n",
            "Requirement already satisfied: idna<3,>=2.5 in /usr/local/lib/python3.7/dist-packages (from requests->covid) (2.10)\n",
            "Requirement already satisfied: chardet<4,>=3.0.2 in /usr/local/lib/python3.7/dist-packages (from requests->covid) (3.0.4)\n",
            "Requirement already satisfied: certifi>=2017.4.17 in /usr/local/lib/python3.7/dist-packages (from requests->covid) (2021.5.30)\n",
            "Requirement already satisfied: click<7.2.0,>=7.1.1 in /usr/local/lib/python3.7/dist-packages (from typer->covid) (7.1.2)\n",
            "Building wheels for collected packages: covid\n",
            "  Building wheel for covid (PEP 517) ... \u001b[?25l\u001b[?25hdone\n",
            "  Created wheel for covid: filename=covid-2.5.0-py3-none-any.whl size=10464 sha256=dc3cdd83e595a5bcede4339473ac3cdb6e9a30fffa607c3df55a158411762ffb\n",
            "  Stored in directory: /root/.cache/pip/wheels/ef/58/2d/822094ab97e5ec5de389fb66cc9445aaeaeb33cc2414457a22\n",
            "Successfully built covid\n",
            "Installing collected packages: typer, pydantic, covid\n",
            "Successfully installed covid-2.5.0 pydantic-1.8.2 typer-0.3.2\n"
          ],
          "name": "stdout"
        }
      ]
    }
  ]
}